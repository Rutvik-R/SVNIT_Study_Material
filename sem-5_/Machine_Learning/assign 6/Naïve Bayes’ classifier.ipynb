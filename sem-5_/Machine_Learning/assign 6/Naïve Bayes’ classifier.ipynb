{
 "cells": [
  {
   "cell_type": "code",
   "execution_count": 18,
   "id": "51b5625b-e28b-4b21-b7da-2df931f5646c",
   "metadata": {},
   "outputs": [],
   "source": [
    "from sklearn.model_selection import train_test_split"
   ]
  },
  {
   "cell_type": "code",
   "execution_count": 19,
   "id": "317ba5aa-ad6b-41dc-b2b4-41edb1d1f69b",
   "metadata": {},
   "outputs": [],
   "source": [
    "data = pd.read_csv(\"sms_spam.csv\")"
   ]
  },
  {
   "cell_type": "code",
   "execution_count": 20,
   "id": "b80a25bb-03f2-4e6d-8dd6-5ae31d213b28",
   "metadata": {},
   "outputs": [],
   "source": [
    "import pandas as pd"
   ]
  },
  {
   "cell_type": "code",
   "execution_count": 21,
   "id": "7b476ada-7527-4df5-b657-64981498a1a8",
   "metadata": {},
   "outputs": [
    {
     "data": {
      "text/html": [
       "<div>\n",
       "<style scoped>\n",
       "    .dataframe tbody tr th:only-of-type {\n",
       "        vertical-align: middle;\n",
       "    }\n",
       "\n",
       "    .dataframe tbody tr th {\n",
       "        vertical-align: top;\n",
       "    }\n",
       "\n",
       "    .dataframe thead th {\n",
       "        text-align: right;\n",
       "    }\n",
       "</style>\n",
       "<table border=\"1\" class=\"dataframe\">\n",
       "  <thead>\n",
       "    <tr style=\"text-align: right;\">\n",
       "      <th></th>\n",
       "      <th>type</th>\n",
       "      <th>text</th>\n",
       "    </tr>\n",
       "  </thead>\n",
       "  <tbody>\n",
       "    <tr>\n",
       "      <th>0</th>\n",
       "      <td>ham</td>\n",
       "      <td>Go until jurong point, crazy.. Available only ...</td>\n",
       "    </tr>\n",
       "    <tr>\n",
       "      <th>1</th>\n",
       "      <td>ham</td>\n",
       "      <td>Ok lar... Joking wif u oni...</td>\n",
       "    </tr>\n",
       "    <tr>\n",
       "      <th>2</th>\n",
       "      <td>spam</td>\n",
       "      <td>Free entry in 2 a wkly comp to win FA Cup fina...</td>\n",
       "    </tr>\n",
       "    <tr>\n",
       "      <th>3</th>\n",
       "      <td>ham</td>\n",
       "      <td>U dun say so early hor... U c already then say...</td>\n",
       "    </tr>\n",
       "    <tr>\n",
       "      <th>4</th>\n",
       "      <td>ham</td>\n",
       "      <td>Nah I don't think he goes to usf, he lives aro...</td>\n",
       "    </tr>\n",
       "  </tbody>\n",
       "</table>\n",
       "</div>"
      ],
      "text/plain": [
       "   type                                               text\n",
       "0   ham  Go until jurong point, crazy.. Available only ...\n",
       "1   ham                      Ok lar... Joking wif u oni...\n",
       "2  spam  Free entry in 2 a wkly comp to win FA Cup fina...\n",
       "3   ham  U dun say so early hor... U c already then say...\n",
       "4   ham  Nah I don't think he goes to usf, he lives aro..."
      ]
     },
     "execution_count": 21,
     "metadata": {},
     "output_type": "execute_result"
    }
   ],
   "source": [
    "data.head()"
   ]
  },
  {
   "cell_type": "code",
   "execution_count": 22,
   "id": "9a3e0eab-ac95-4fc2-965a-99d84a682bea",
   "metadata": {},
   "outputs": [],
   "source": [
    "data.replace(to_replace = [\"ham\" , \"spam\" ], value = [0, 1], inplace = True)"
   ]
  },
  {
   "cell_type": "code",
   "execution_count": 23,
   "id": "f3a2f8e7-e67d-4689-9245-9e1d90ec072a",
   "metadata": {},
   "outputs": [
    {
     "data": {
      "text/html": [
       "<div>\n",
       "<style scoped>\n",
       "    .dataframe tbody tr th:only-of-type {\n",
       "        vertical-align: middle;\n",
       "    }\n",
       "\n",
       "    .dataframe tbody tr th {\n",
       "        vertical-align: top;\n",
       "    }\n",
       "\n",
       "    .dataframe thead th {\n",
       "        text-align: right;\n",
       "    }\n",
       "</style>\n",
       "<table border=\"1\" class=\"dataframe\">\n",
       "  <thead>\n",
       "    <tr style=\"text-align: right;\">\n",
       "      <th></th>\n",
       "      <th>type</th>\n",
       "      <th>text</th>\n",
       "    </tr>\n",
       "  </thead>\n",
       "  <tbody>\n",
       "    <tr>\n",
       "      <th>0</th>\n",
       "      <td>0</td>\n",
       "      <td>Go until jurong point, crazy.. Available only ...</td>\n",
       "    </tr>\n",
       "    <tr>\n",
       "      <th>1</th>\n",
       "      <td>0</td>\n",
       "      <td>Ok lar... Joking wif u oni...</td>\n",
       "    </tr>\n",
       "    <tr>\n",
       "      <th>2</th>\n",
       "      <td>1</td>\n",
       "      <td>Free entry in 2 a wkly comp to win FA Cup fina...</td>\n",
       "    </tr>\n",
       "    <tr>\n",
       "      <th>3</th>\n",
       "      <td>0</td>\n",
       "      <td>U dun say so early hor... U c already then say...</td>\n",
       "    </tr>\n",
       "    <tr>\n",
       "      <th>4</th>\n",
       "      <td>0</td>\n",
       "      <td>Nah I don't think he goes to usf, he lives aro...</td>\n",
       "    </tr>\n",
       "  </tbody>\n",
       "</table>\n",
       "</div>"
      ],
      "text/plain": [
       "   type                                               text\n",
       "0     0  Go until jurong point, crazy.. Available only ...\n",
       "1     0                      Ok lar... Joking wif u oni...\n",
       "2     1  Free entry in 2 a wkly comp to win FA Cup fina...\n",
       "3     0  U dun say so early hor... U c already then say...\n",
       "4     0  Nah I don't think he goes to usf, he lives aro..."
      ]
     },
     "execution_count": 23,
     "metadata": {},
     "output_type": "execute_result"
    }
   ],
   "source": [
    "data.head()"
   ]
  },
  {
   "cell_type": "markdown",
   "id": "78afbd56-6a59-4e64-9c6c-edef30dfd620",
   "metadata": {},
   "source": [
    "Step 1: Completed"
   ]
  },
  {
   "cell_type": "code",
   "execution_count": 24,
   "id": "aa5994a6-f20b-469b-bcad-c7383afb474f",
   "metadata": {},
   "outputs": [
    {
     "name": "stdout",
     "output_type": "stream",
     "text": [
      "<class 'pandas.core.frame.DataFrame'>\n",
      "RangeIndex: 5574 entries, 0 to 5573\n",
      "Data columns (total 2 columns):\n",
      " #   Column  Non-Null Count  Dtype \n",
      "---  ------  --------------  ----- \n",
      " 0   type    5574 non-null   int64 \n",
      " 1   text    5574 non-null   object\n",
      "dtypes: int64(1), object(1)\n",
      "memory usage: 87.2+ KB\n"
     ]
    }
   ],
   "source": [
    "data.info()"
   ]
  },
  {
   "cell_type": "code",
   "execution_count": 25,
   "id": "31564256-61fc-4b32-834b-53cea00b55c1",
   "metadata": {},
   "outputs": [],
   "source": [
    "from sklearn.feature_extraction.text import TfidfVectorizer"
   ]
  },
  {
   "cell_type": "code",
   "execution_count": 26,
   "id": "6e272d2e-55d5-4243-92a3-f0e616e6c0ec",
   "metadata": {},
   "outputs": [],
   "source": [
    "myCorpus = data['text']"
   ]
  },
  {
   "cell_type": "code",
   "execution_count": 27,
   "id": "f61bbb9f-50d3-4373-ba9f-66759f4d1130",
   "metadata": {},
   "outputs": [
    {
     "data": {
      "text/plain": [
       "0    Go until jurong point, crazy.. Available only ...\n",
       "1                        Ok lar... Joking wif u oni...\n",
       "2    Free entry in 2 a wkly comp to win FA Cup fina...\n",
       "3    U dun say so early hor... U c already then say...\n",
       "4    Nah I don't think he goes to usf, he lives aro...\n",
       "Name: text, dtype: object"
      ]
     },
     "execution_count": 27,
     "metadata": {},
     "output_type": "execute_result"
    }
   ],
   "source": [
    "myCorpus.head()"
   ]
  },
  {
   "cell_type": "code",
   "execution_count": 28,
   "id": "11124a2f-517b-4fdd-92da-9d37770634e2",
   "metadata": {},
   "outputs": [],
   "source": [
    "vectorizer = TfidfVectorizer()"
   ]
  },
  {
   "cell_type": "code",
   "execution_count": 29,
   "id": "2228acbe-ae33-427c-885d-64ab2fbca9ea",
   "metadata": {},
   "outputs": [],
   "source": [
    "transformed_corpus = vectorizer.fit_transform(myCorpus).toarray()"
   ]
  },
  {
   "cell_type": "markdown",
   "id": "6225ed2f-edde-466a-aebb-ac99512e9aee",
   "metadata": {},
   "source": [
    "Note: To do '.toarray()'"
   ]
  },
  {
   "cell_type": "code",
   "execution_count": 30,
   "id": "df4f80db-eddc-4d6d-858c-b4c8528ccd9c",
   "metadata": {},
   "outputs": [
    {
     "data": {
      "text/plain": [
       "array([[0., 0., 0., ..., 0., 0., 0.],\n",
       "       [0., 0., 0., ..., 0., 0., 0.],\n",
       "       [0., 0., 0., ..., 0., 0., 0.],\n",
       "       ...,\n",
       "       [0., 0., 0., ..., 0., 0., 0.],\n",
       "       [0., 0., 0., ..., 0., 0., 0.],\n",
       "       [0., 0., 0., ..., 0., 0., 0.]])"
      ]
     },
     "execution_count": 30,
     "metadata": {},
     "output_type": "execute_result"
    }
   ],
   "source": [
    "transformed_corpus"
   ]
  },
  {
   "cell_type": "code",
   "execution_count": 31,
   "id": "371338e8-fbe6-4a24-8098-ceb98ff174e9",
   "metadata": {},
   "outputs": [
    {
     "data": {
      "text/plain": [
       "array(['00', '000', '000pes', ..., 'èn', 'ú1', '〨ud'], dtype=object)"
      ]
     },
     "execution_count": 31,
     "metadata": {},
     "output_type": "execute_result"
    }
   ],
   "source": [
    "vectorizer.get_feature_names_out()"
   ]
  },
  {
   "cell_type": "code",
   "execution_count": 32,
   "id": "11e7c3e7-a3f5-4b1d-ab29-0747e251ce44",
   "metadata": {},
   "outputs": [
    {
     "data": {
      "text/plain": [
       "(5574, 8713)"
      ]
     },
     "execution_count": 32,
     "metadata": {},
     "output_type": "execute_result"
    }
   ],
   "source": [
    "transformed_corpus.shape"
   ]
  },
  {
   "cell_type": "markdown",
   "id": "c810b9de-d89f-4c8d-89dc-6fd7ac123185",
   "metadata": {},
   "source": [
    "\n",
    "\n",
    "Step 2: Completed"
   ]
  },
  {
   "cell_type": "code",
   "execution_count": 33,
   "id": "e02c71c3-0e12-4400-b9ee-fd8d8b1a0df0",
   "metadata": {},
   "outputs": [],
   "source": [
    "from sklearn.naive_bayes import GaussianNB"
   ]
  },
  {
   "cell_type": "code",
   "execution_count": 34,
   "id": "a1ae7b51-6b8e-4700-b87f-2aafb3e82f68",
   "metadata": {},
   "outputs": [],
   "source": [
    "X = transformed_corpus"
   ]
  },
  {
   "cell_type": "code",
   "execution_count": 35,
   "id": "e16dfd07-40dd-4991-9619-d4167f35f652",
   "metadata": {},
   "outputs": [],
   "source": [
    "y = data['type']"
   ]
  },
  {
   "cell_type": "code",
   "execution_count": 38,
   "id": "07a57ed1-d1b8-421a-95f1-3db48c275417",
   "metadata": {},
   "outputs": [],
   "source": [
    "X_train, X_test, y_train, y_test = train_test_split(X, y, test_size=0.3, random_state=0)"
   ]
  },
  {
   "cell_type": "code",
   "execution_count": 37,
   "id": "9c153388-a09b-48ef-860c-4148c1e79a51",
   "metadata": {},
   "outputs": [],
   "source": [
    "gnb = GaussianNB()"
   ]
  },
  {
   "cell_type": "code",
   "execution_count": 39,
   "id": "b5024a7e-191b-40b9-b86d-e74179565e6e",
   "metadata": {},
   "outputs": [],
   "source": [
    "y_pred = gnb.fit(X_train, y_train)"
   ]
  },
  {
   "cell_type": "code",
   "execution_count": 42,
   "id": "ae498174-51f2-4925-96f0-f181697f9751",
   "metadata": {},
   "outputs": [],
   "source": [
    "test1 = vectorizer.transform([\"Congrats!\"]).toarray()"
   ]
  },
  {
   "cell_type": "code",
   "execution_count": 43,
   "id": "9a21e313-985d-46b1-b623-06c436c04dad",
   "metadata": {},
   "outputs": [
    {
     "data": {
      "text/plain": [
       "array([1])"
      ]
     },
     "execution_count": 43,
     "metadata": {},
     "output_type": "execute_result"
    }
   ],
   "source": [
    "y_pred.predict(test1)"
   ]
  },
  {
   "cell_type": "markdown",
   "id": "be59770a-a037-4393-9157-27808553bdb6",
   "metadata": {},
   "source": [
    "Step 3: Completed"
   ]
  },
  {
   "cell_type": "code",
   "execution_count": 44,
   "id": "13709472-132b-40fa-b709-ce4e9921b929",
   "metadata": {},
   "outputs": [],
   "source": [
    "from sklearn.metrics import roc_curve\n"
   ]
  },
  {
   "cell_type": "code",
   "execution_count": 54,
   "id": "9a04c2a0-1a13-4064-97f6-aecfa25140ce",
   "metadata": {},
   "outputs": [],
   "source": [
    "pred_prob = gnb.predict_proba(X_test)"
   ]
  },
  {
   "cell_type": "code",
   "execution_count": 55,
   "id": "861c2d44-99fb-4fe0-b2d6-9365b95db3fd",
   "metadata": {},
   "outputs": [],
   "source": [
    "fpr1, tpr1, thresh1 = roc_curve(y_test, pred_prob[:,1], pos_label=1)"
   ]
  },
  {
   "cell_type": "code",
   "execution_count": 56,
   "id": "2b91a8b7-49f4-4029-a2b6-ac2e8eaea5bd",
   "metadata": {},
   "outputs": [
    {
     "data": {
      "text/plain": [
       "array([0.       , 0.0873515, 1.       ])"
      ]
     },
     "execution_count": 56,
     "metadata": {},
     "output_type": "execute_result"
    }
   ],
   "source": [
    "fpr1"
   ]
  },
  {
   "cell_type": "code",
   "execution_count": 57,
   "id": "1ac3315e-7b94-44a3-9ee9-fbe9ea8affad",
   "metadata": {},
   "outputs": [
    {
     "data": {
      "text/plain": [
       "array([0.        , 0.90082645, 1.        ])"
      ]
     },
     "execution_count": 57,
     "metadata": {},
     "output_type": "execute_result"
    }
   ],
   "source": [
    "tpr1"
   ]
  },
  {
   "cell_type": "code",
   "execution_count": 61,
   "id": "7e29b476-0e4f-4fb9-81e7-646304172fc3",
   "metadata": {},
   "outputs": [
    {
     "data": {
      "text/plain": [
       "array([2., 1., 0.])"
      ]
     },
     "execution_count": 61,
     "metadata": {},
     "output_type": "execute_result"
    }
   ],
   "source": [
    "thresh1"
   ]
  },
  {
   "cell_type": "code",
   "execution_count": 58,
   "id": "bb1960b8-805e-4f64-bbea-f309b1d07aab",
   "metadata": {},
   "outputs": [],
   "source": [
    "from sklearn.metrics import roc_auc_score"
   ]
  },
  {
   "cell_type": "code",
   "execution_count": 59,
   "id": "615be4fc-dfc2-4234-9017-4a6fa913769c",
   "metadata": {},
   "outputs": [],
   "source": [
    "auc_score1 = roc_auc_score(y_test, pred_prob[:,1])"
   ]
  },
  {
   "cell_type": "code",
   "execution_count": 60,
   "id": "6f632448-8904-4ccf-bd65-772702fa7527",
   "metadata": {},
   "outputs": [
    {
     "data": {
      "text/plain": [
       "0.9067374719175747"
      ]
     },
     "execution_count": 60,
     "metadata": {},
     "output_type": "execute_result"
    }
   ],
   "source": [
    "auc_score1"
   ]
  },
  {
   "cell_type": "markdown",
   "id": "b333c362-f831-4cf5-be40-e6e64f1dc48f",
   "metadata": {},
   "source": [
    "Step 4: Completed"
   ]
  }
 ],
 "metadata": {
  "kernelspec": {
   "display_name": "Python 3 (ipykernel)",
   "language": "python",
   "name": "python3"
  },
  "language_info": {
   "codemirror_mode": {
    "name": "ipython",
    "version": 3
   },
   "file_extension": ".py",
   "mimetype": "text/x-python",
   "name": "python",
   "nbconvert_exporter": "python",
   "pygments_lexer": "ipython3",
   "version": "3.9.5"
  }
 },
 "nbformat": 4,
 "nbformat_minor": 5
}
