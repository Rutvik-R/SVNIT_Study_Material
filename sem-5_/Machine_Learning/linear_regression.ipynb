{
    "metadata": {
        "kernelspec": {
            "name": "python3",
            "display_name": "Python 3 (ipykernel)",
            "language": "python"
        },
        "language_info": {
            "name": "python",
            "version": "3.9.12",
            "mimetype": "text/x-python",
            "codemirror_mode": {
                "name": "ipython",
                "version": 3
            },
            "pygments_lexer": "ipython3",
            "nbconvert_exporter": "python",
            "file_extension": ".py"
        }
    },
    "nbformat_minor": 2,
    "nbformat": 4,
    "cells": [
        {
            "cell_type": "code",
            "source": [],
            "metadata": {
                "azdata_cell_guid": "02db3585-8221-45a2-a7be-7d080090fee7"
            },
            "outputs": [],
            "execution_count": null
        },
        {
            "cell_type": "code",
            "source": [
                "import numpy as np\n",
                "import pandas as pd\n",
                "import matplotlib.pyplot as plt\n",
                "from sklearn.linear_model import LinearRegression\n",
                "from sklearn.model_selection import train_test_split\n",
                "import statsmodels.api as sm\n",
                "import seaborn as sns"
            ],
            "metadata": {
                "azdata_cell_guid": "ed815202-1411-4935-90ad-5d201d0227b6",
                "tags": []
            },
            "outputs": [],
            "execution_count": null
        },
        {
            "cell_type": "code",
            "source": [
                "#read dataset\n",
                "df = pd.read_csv('/Users/pratap/PycharmProjects/ML/iris.csv')\n",
                "df.head()"
            ],
            "metadata": {
                "azdata_cell_guid": "0f13c8cf-deeb-416f-a272-1eb315b5070c",
                "tags": []
            },
            "outputs": [],
            "execution_count": null
        },
        {
            "cell_type": "code",
            "source": [
                "# change categorical to numerical\n",
                "df.dtypes"
            ],
            "metadata": {
                "azdata_cell_guid": "cde56c19-c6f4-4fbc-a229-2505a1480493",
                "tags": []
            },
            "outputs": [],
            "execution_count": null
        },
        {
            "cell_type": "code",
            "source": [
                "df['Species'] = df['Species'].astype('category').cat.codes\n",
                "df.head()"
            ],
            "metadata": {
                "azdata_cell_guid": "452db592-fbe7-442d-aa78-0ee0ce3b1582"
            },
            "outputs": [],
            "execution_count": null
        },
        {
            "cell_type": "code",
            "source": [
                "X = df[['Sepal.Width','Petal.Length','Petal.Width','Species']]\n",
                "Y = df['Sepal.Length']\n",
                "X.head()"
            ],
            "metadata": {
                "azdata_cell_guid": "091f7170-43de-465c-b068-5fa310ca317a"
            },
            "outputs": [],
            "execution_count": null
        },
        {
            "cell_type": "code",
            "source": [
                "df.corr()"
            ],
            "metadata": {
                "azdata_cell_guid": "9edc4559-6930-4992-8d4f-67f6c48b8112"
            },
            "outputs": [],
            "execution_count": null
        },
        {
            "cell_type": "code",
            "source": [
                "print(df.corr())"
            ],
            "metadata": {
                "azdata_cell_guid": "0da46f04-7165-4101-9538-9815a8b96158"
            },
            "outputs": [],
            "execution_count": null
        },
        {
            "cell_type": "code",
            "source": [
                "plt.figure()\n",
                "plt.scatter(df['Sepal.Width'],df['Petal.Length'],c='red')\n",
                "plt.xlabel(\"Sepal.Width\")\n",
                "plt.ylabel(\"Petal.Length\")\n",
                "plt.show()"
            ],
            "metadata": {
                "tags": [],
                "azdata_cell_guid": "de05fad1-65f0-4acf-933b-ba036000bec0"
            },
            "outputs": [],
            "execution_count": null
        },
        {
            "cell_type": "code",
            "source": [
                "plt.figure()\n",
                "plt.scatter(df['Sepal.Width'],df['Petal.Width'],c='blue')\n",
                "plt.xlabel(\"Sepal.Width\")\n",
                "plt.ylabel(\"Petal.Width\")\n",
                "plt.show()"
            ],
            "metadata": {
                "azdata_cell_guid": "548b6ec3-f060-4228-85ea-0c0d0ec7c9a3"
            },
            "outputs": [],
            "execution_count": null
        },
        {
            "cell_type": "code",
            "source": [
                "plt.figure()\n",
                "plt.scatter(df['Sepal.Width'],df['Species'],c='green')\n",
                "plt.xlabel(\"Sepal.Width\")\n",
                "plt.ylabel(\"Species\")\n",
                "plt.show()"
            ],
            "metadata": {
                "azdata_cell_guid": "70c556db-acca-4afa-8ad0-b46145d69129"
            },
            "outputs": [],
            "execution_count": null
        },
        {
            "cell_type": "code",
            "source": [
                "plt.figure()\n",
                "plt.scatter(df['Petal.Length'],df['Petal.Width'],c='orange')\n",
                "plt.xlabel(\"Petal.Length\")\n",
                "plt.ylabel(\"Petal.Width\")\n",
                "plt.show()"
            ],
            "metadata": {
                "azdata_cell_guid": "b1a208c2-a838-4330-87d6-811409b21057"
            },
            "outputs": [],
            "execution_count": null
        },
        {
            "cell_type": "code",
            "source": [
                "plt.figure()\n",
                "plt.scatter(df['Petal.Length'],df['Species'],c='black')\n",
                "plt.xlabel(\"Petal.Length\")\n",
                "plt.ylabel(\"Species\")\n",
                "plt.show()"
            ],
            "metadata": {
                "azdata_cell_guid": "5f3ef97d-8235-46ce-9b2e-a37394820acf"
            },
            "outputs": [],
            "execution_count": null
        },
        {
            "cell_type": "code",
            "source": [
                "plt.figure()\n",
                "plt.scatter(df['Petal.Width'],df['Species'],c='black')\n",
                "plt.xlabel(\"Petal.Width\")\n",
                "plt.ylabel(\"Species\")\n",
                "plt.show()"
            ],
            "metadata": {
                "azdata_cell_guid": "9aba2e20-2578-40af-924c-28647ff65b2f"
            },
            "outputs": [],
            "execution_count": null
        },
        {
            "cell_type": "code",
            "source": [
                "df[['Petal.Width','Species','Petal.Length','Sepal.Width','Sepal.Length']].corr()['Sepal.Length'][:]"
            ],
            "metadata": {
                "azdata_cell_guid": "6c0980bf-a9b3-4547-a3b1-d7d93270c402"
            },
            "outputs": [],
            "execution_count": null
        },
        {
            "cell_type": "code",
            "source": [
                "plt.boxplot(df['Petal.Width'])"
            ],
            "metadata": {
                "azdata_cell_guid": "8e2f1693-5df8-435c-b488-183f1a495685"
            },
            "outputs": [],
            "execution_count": null
        },
        {
            "cell_type": "code",
            "source": [
                "plt.boxplot(df['Petal.Length'])"
            ],
            "metadata": {
                "azdata_cell_guid": "b0f6f560-35f3-405e-b411-c187f9d86814"
            },
            "outputs": [],
            "execution_count": null
        },
        {
            "cell_type": "code",
            "source": [
                "plt.boxplot(df['Sepal.Length'])"
            ],
            "metadata": {
                "azdata_cell_guid": "bba4959e-264b-415f-a3ae-6fc9a2aafd8a"
            },
            "outputs": [],
            "execution_count": null
        },
        {
            "cell_type": "code",
            "source": [
                "plt.boxplot(df['Sepal.Width'])"
            ],
            "metadata": {
                "azdata_cell_guid": "1a4c5251-ecf9-40b9-be6f-811288f290c1"
            },
            "outputs": [],
            "execution_count": null
        },
        {
            "cell_type": "code",
            "source": [
                "plt.boxplot(df['Species'])"
            ],
            "metadata": {
                "azdata_cell_guid": "67d9ec46-25a5-47f8-a5b0-60aaf3013778"
            },
            "outputs": [],
            "execution_count": null
        },
        {
            "cell_type": "code",
            "source": [
                "X_train, X_test, y_train, y_test = train_test_split(X, Y, test_size=0.2, random_state=42)"
            ],
            "metadata": {
                "azdata_cell_guid": "ecaf1b5e-8098-44d3-b597-e9aa23b0be9a"
            },
            "outputs": [],
            "execution_count": null
        },
        {
            "cell_type": "code",
            "source": [
                "df.describe()"
            ],
            "metadata": {
                "azdata_cell_guid": "c53cd66a-3040-4d01-9cb5-484373e339d0"
            },
            "outputs": [],
            "execution_count": null
        },
        {
            "cell_type": "code",
            "source": [
                "print(X_train)"
            ],
            "metadata": {
                "azdata_cell_guid": "2dfaf910-9739-436e-b73c-0379c61d6212"
            },
            "outputs": [],
            "execution_count": null
        },
        {
            "cell_type": "code",
            "source": [
                "print(y_train)"
            ],
            "metadata": {
                "azdata_cell_guid": "f42c67b4-0766-4dd8-b4e1-7de4500d05cd"
            },
            "outputs": [],
            "execution_count": null
        },
        {
            "cell_type": "code",
            "source": [
                "regressor = LinearRegression()\n",
                "regressor.fit(X_train,y_train)"
            ],
            "metadata": {
                "azdata_cell_guid": "ac7901a5-8452-4290-a6fc-a19f4b9b8723"
            },
            "outputs": [],
            "execution_count": null
        },
        {
            "cell_type": "code",
            "source": [
                "print(regressor.intercept_)\n",
                "print(regressor.coef_)"
            ],
            "metadata": {
                "azdata_cell_guid": "8aab4fda-a052-4721-ae9d-81cab00c53ec",
                "tags": [
                    "hide_input"
                ]
            },
            "outputs": [],
            "execution_count": null
        },
        {
            "cell_type": "code",
            "source": [
                "regressor.score(X,Y)"
            ],
            "metadata": {
                "azdata_cell_guid": "592d4c95-59df-41d1-bdde-631977d7c740"
            },
            "outputs": [],
            "execution_count": null
        },
        {
            "cell_type": "code",
            "source": [
                "model = regressor.fit(X_train,y_train)\n",
                "\n",
                "y_test_pred=model.predict(X_test)\n",
                "print(y_test_pred)"
            ],
            "metadata": {
                "azdata_cell_guid": "00f2c2b4-325e-4d6a-ab1c-17fbd298e368",
                "tags": [
                    "hide_input"
                ]
            },
            "outputs": [],
            "execution_count": null
        },
        {
            "cell_type": "code",
            "source": [
                "import sklearn.metrics as sm\n",
                "print(\"Mean absolute error =\", round(sm.mean_absolute_error(y_test, y_test_pred), 2))\n",
                "print(\"Mean squared error =\", round(sm.mean_squared_error(y_test, y_test_pred), 2))\n",
                "print(\"Median absolute error =\", round(sm.median_absolute_error(y_test, y_test_pred), 2))\n",
                "print(\"Explain variance score =\", round(sm.explained_variance_score(y_test, y_test_pred), 2))\n",
                "print(\"R2 score =\", round(sm.r2_score(y_test, y_test_pred), 2))"
            ],
            "metadata": {
                "azdata_cell_guid": "86c8dcfa-f0e8-4946-b2a4-7356d00851c3"
            },
            "outputs": [],
            "execution_count": null
        }
    ]
}